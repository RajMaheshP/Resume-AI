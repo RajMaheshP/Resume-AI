{
  "metadata": {
    "language_info": {
      "codemirror_mode": {
        "name": "python",
        "version": 3
      },
      "file_extension": ".py",
      "mimetype": "text/x-python",
      "name": "python",
      "nbconvert_exporter": "python",
      "pygments_lexer": "ipython3",
      "version": "3.8"
    },
    "kernelspec": {
      "name": "python",
      "display_name": "Python (Pyodide)",
      "language": "python"
    }
  },
  "nbformat_minor": 4,
  "nbformat": 4,
  "cells": [
    {
      "cell_type": "code",
      "source": "import nltk\nfrom nltk.probability import FreqDist\nfrom nltk.tokenize import word_tokenize\n\nresumes = [\n    \"I am a software engineer with experience in Python, Java, and JavaScript.\",\n    \"I am a data scientist proficient in Python, R, and machine learning techniques.\",\n    \"I am a project manager with experience in agile methodologies.\",\n    \"I am a hardware engineer with expertise in embedded systems and C++.\",\n    \"I am a business analyst with a strong background in data analysis using Excel.\"\n]\n\njob_description = \"We are looking for a software engineer with experience in Python and Java.\"\n\njob_tokens = set(job_description.lower().split())\nresume_tokens = [set(resume.lower().split()) for resume in resumes]\n\n\nscores = [len(tokens.intersection(job_tokens)) for tokens in resume_tokens]\n\nbest_resume_index = scores.index(max(scores))\n\nprint(f\"The best candidate is: \\n\\n{resumes[best_resume_index]}\")",
      "metadata": {
        "trusted": true
      },
      "execution_count": 2,
      "outputs": [
        {
          "name": "stdout",
          "text": "The best candidate is: \n\nI am a software engineer with experience in Python, Java, and JavaScript.\n",
          "output_type": "stream"
        }
      ]
    },
    {
      "cell_type": "markdown",
      "source": "",
      "metadata": {}
    }
  ]
}